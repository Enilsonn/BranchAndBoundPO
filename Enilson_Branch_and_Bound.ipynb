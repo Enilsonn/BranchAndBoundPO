{
  "nbformat": 4,
  "nbformat_minor": 0,
  "metadata": {
    "colab": {
      "provenance": [],
      "authorship_tag": "ABX9TyNkoo8AiO18q9S0k3rAj68y",
      "include_colab_link": true
    },
    "kernelspec": {
      "name": "python3",
      "display_name": "Python 3"
    },
    "language_info": {
      "name": "python"
    }
  },
  "cells": [
    {
      "cell_type": "markdown",
      "metadata": {
        "id": "view-in-github",
        "colab_type": "text"
      },
      "source": [
        "<a href=\"https://colab.research.google.com/github/Enilsonn/BranchAndBoundPO/blob/main/Enilson_Branch_and_Bound.ipynb\" target=\"_parent\"><img src=\"https://colab.research.google.com/assets/colab-badge.svg\" alt=\"Open In Colab\"/></a>"
      ]
    },
    {
      "cell_type": "code",
      "source": [
        "!pip install mip"
      ],
      "metadata": {
        "colab": {
          "base_uri": "https://localhost:8080/"
        },
        "id": "o_6_Jxe824hB",
        "outputId": "4f7a8578-a390-4b3b-b955-897c12a12684"
      },
      "execution_count": 46,
      "outputs": [
        {
          "output_type": "stream",
          "name": "stdout",
          "text": [
            "Requirement already satisfied: mip in /usr/local/lib/python3.11/dist-packages (1.15.0)\n",
            "Requirement already satisfied: cffi==1.15.* in /usr/local/lib/python3.11/dist-packages (from mip) (1.15.1)\n",
            "Requirement already satisfied: pycparser in /usr/local/lib/python3.11/dist-packages (from cffi==1.15.*->mip) (2.22)\n"
          ]
        }
      ]
    },
    {
      "cell_type": "code",
      "source": [
        "from mip import *\n",
        "from math import ceil, floor\n",
        "from queue import Queue"
      ],
      "metadata": {
        "id": "oueuc4q0F1sb"
      },
      "execution_count": 47,
      "outputs": []
    },
    {
      "cell_type": "code",
      "source": [
        "def ehInteiro(x, e=1e-6):\n",
        "    return abs(x - round(x)) < e"
      ],
      "metadata": {
        "id": "2qDedjSaF4IN"
      },
      "execution_count": 48,
      "outputs": []
    },
    {
      "cell_type": "code",
      "source": [
        "def print_solution(model):\n",
        "    status = model.optimize()\n",
        "    print(\"Status \", status)\n",
        "    print(\"Solution value =\", model.objective_value)\n",
        "    print(\"Solution:\")\n",
        "    for v in model.vars:\n",
        "        if v.x is not None and v.x > 1e-5:\n",
        "            print(f\"{v.name} = {v.x:.2f}\")"
      ],
      "metadata": {
        "id": "G3FreDZ5F9mY"
      },
      "execution_count": 49,
      "outputs": []
    },
    {
      "cell_type": "code",
      "source": [
        "def solucaoMaxEncontrada(modelos):\n",
        "    if not modelos:\n",
        "        return None\n",
        "    Zd = max(modelos.keys())\n",
        "    return Zd, modelos[Zd]"
      ],
      "metadata": {
        "id": "hE20pXaPGArU"
      },
      "execution_count": 50,
      "outputs": []
    },
    {
      "cell_type": "code",
      "source": [
        "\"\"\"\n",
        "    Essas duas funcoes foram criadas pelo professor Teobaldo Bulhoes, estou usando-as aqui\n",
        "    apenas para debugar o codigo mais a frente\n",
        "\"\"\"\n",
        "\n",
        "# funcões usadas posteriormente\n",
        "\n",
        "# resolve o modelo e mostra os valores das variáveis na solução\n",
        "def solve(model):\n",
        "  status = model.optimize()\n",
        "\n",
        "  if status != OptimizationStatus.OPTIMAL:\n",
        "    return\n",
        "\n",
        "  print(\"Status = \", status)\n",
        "  print(f\"Solution value  = {model.objective_value:.2f}\\n\")\n",
        "\n",
        "  print(\"Solution:\")\n",
        "  for v in model.vars:\n",
        "      print(f\"{v.name} = {v.x:.2f}\")\n",
        "\n",
        "\n",
        "# salva modelo em arquivo lp, e mostra o conteúdo\n",
        "def save(model, filename):\n",
        "  model.write(filename) # salva modelo em arquivo\n",
        "  with open(filename, \"r\") as f: # lê e exibe conteúdo do arquivo\n",
        "    print(f.read())"
      ],
      "metadata": {
        "id": "yq4LnapA95aM"
      },
      "execution_count": 51,
      "outputs": []
    },
    {
      "cell_type": "code",
      "source": [
        "def lerModelo(path):\n",
        "    with open(path, \"r\") as f:\n",
        "          linhas = f.readlines()\n",
        "\n",
        "    # numero de variaveis e de restrições\n",
        "    n_var, n_rest = list(map(int,linhas[0].split()))\n",
        "\n",
        "    model = Model(sense=MAXIMIZE, solver_name=CBC)\n",
        "\n",
        "    x = [model.add_var(name=f\"x_{i+1}\") for i in range(n_var)]\n",
        "\n",
        "    objective_const = list(map(int, linhas[1].split()))\n",
        "\n",
        "    objectivo = 0\n",
        "    for i in range(n_var):\n",
        "        objectivo += x[i]*objective_const[i]\n",
        "    model.objective = objectivo\n",
        "\n",
        "    linha = 2\n",
        "    for rest in range(n_rest):\n",
        "        LHS = 0\n",
        "        const_rest = list(map(int, linhas[linha].split()))\n",
        "\n",
        "        for i in range(n_var):\n",
        "            LHS += x[i]*const_rest[i]\n",
        "\n",
        "        model += LHS <= const_rest[-1]\n",
        "\n",
        "    return model\n",
        "\n",
        "\n"
      ],
      "metadata": {
        "id": "U9XxqGgUqMN9"
      },
      "execution_count": 52,
      "outputs": []
    },
    {
      "cell_type": "code",
      "source": [
        "def lerModelo(path):\n",
        "    with open(path, \"r\") as f:\n",
        "        linhas = f.readlines()\n",
        "\n",
        "    # numero de variaveis e de restrições\n",
        "    n_var, n_rest = list(map(int, linhas[0].split()))\n",
        "\n",
        "    # coeficientes da função objetivo\n",
        "    c = list(map(float, linhas[1].split()))\n",
        "\n",
        "    # restrições\n",
        "    restricoes = []\n",
        "    for i in range(n_rest):\n",
        "        *coef, rhs = map(float, linhas[2 + i].split())\n",
        "        restricoes.append((coef, rhs))\n",
        "\n",
        "    # cria o modelo\n",
        "    model = Model(sense=MAXIMIZE, solver_name=CBC)\n",
        "\n",
        "    # adiciona variáveis binárias\n",
        "    x = [model.add_var(var_type=CONTINUOUS, name=f\"x{i+1}\") for i in range(n_var)]\n",
        "\n",
        "    # define a função objetivo\n",
        "    model.objective = xsum(c[i] * x[i] for i in range(n_var))\n",
        "\n",
        "    # adiciona restrições\n",
        "    for coef, rhs in restricoes:\n",
        "        model += xsum(coef[i] * x[i] for i in range(n_var)) <= rhs\n",
        "\n",
        "    return model"
      ],
      "metadata": {
        "id": "52mApAvIl7Q_"
      },
      "execution_count": 53,
      "outputs": []
    },
    {
      "cell_type": "code",
      "source": [
        "def branchAndBound(model):\n",
        "    ehMax = model.sense == MAXIMIZE\n",
        "\n",
        "    # limite primal\n",
        "    if ehMax:\n",
        "      Zp = float('-inf') # caso de maximizacao\n",
        "    else:\n",
        "       Zp = float('inf') # caso de minimizacao\n",
        "\n",
        "    fila = Queue()\n",
        "\n",
        "    model.optimize()\n",
        "\n",
        "    if model.status != OptimizationStatus.OPTIMAL:\n",
        "        print(\"Modelo inicial inviável ou não ótimo.\")\n",
        "        return None\n",
        "\n",
        "    variaveisAtuais = {v.name: v.x for v in model.vars}\n",
        "    varFracionaria = None\n",
        "    for nome, valor in variaveisAtuais.items():\n",
        "        if not ehInteiro(valor):\n",
        "            varFracionaria = nome\n",
        "            break\n",
        "\n",
        "    # se já é solução inteira\n",
        "    if not varFracionaria:\n",
        "        print(\"Solução já é inteira.\")\n",
        "        print_solution(model)\n",
        "        return model\n",
        "\n",
        "    # inicializa fila com o modelo original\n",
        "    fila.put((model.copy(), varFracionaria))\n",
        "\n",
        "    # todos os modelos que serao inteiros\n",
        "    modelosInteiros = {}\n",
        "\n",
        "    # para nao deixar a arvore se expandir muito\n",
        "    count = 0\n",
        "\n",
        "    while not fila.empty():\n",
        "        modeloAtual, varAtual = fila.get()\n",
        "\n",
        "        modeloAtual.optimize()\n",
        "\n",
        "        if modeloAtual.status != OptimizationStatus.OPTIMAL:\n",
        "            continue\n",
        "\n",
        "        Zd = modeloAtual.objective_value\n",
        "        \"\"\"\n",
        "            provavelmente nao eh assim que se usa o Zd (limite dual) na teoria, mas foi\n",
        "            a utilidade que encontrei pra ele aqui. Funcionar como o Z0, Z1, ..., Zn\n",
        "\n",
        "        \"\"\"\n",
        "\n",
        "        \"\"\"\n",
        "            caso a solucao encontrada seja viavel, mas nao seja melhor que uma que ja foi encontrada.\n",
        "            Entao ja mata esse nó e nem continua a execucao\n",
        "        \"\"\"\n",
        "        if Zd is not None:\n",
        "              if (ehMax and Zd < Zp) or (not ehMax and Zd > Zp):\n",
        "              # (ehMax and Zd < Zp) -> se for de maximizacao e essa(Zd) solucao inteira eh menor que a melhor ate agora(Zp)\n",
        "              # (not ehMax and Zd > Zp) - > se for de minimizacao e essa(Zd) solucao inteira eh menor que a melhor ate agora(Zp)\n",
        "                continue # bound\n",
        "\n",
        "\n",
        "        variaveis = {v.name: v.x for v in modeloAtual.vars}\n",
        "\n",
        "        # verifica se a solução é inteira\n",
        "        varFracionariaAtual = None\n",
        "        for nome, valor in variaveis.items():\n",
        "            if not ehInteiro(valor):\n",
        "                varFracionariaAtual = nome\n",
        "                break\n",
        "\n",
        "        # se for inteira\n",
        "        if not varFracionariaAtual:\n",
        "            print(f\">> Solução inteira encontrada: {modeloAtual.objective_value:.2f}\")\n",
        "            if Zd is not None:\n",
        "                if (ehMax and Zd > Zp) or (not ehMax and Zd < Zp):\n",
        "                    # (ehMax and Zd > Zp) -> se for de maximizacao e essa(Zd) solucao inteira eh maior que a melhor ate agora(Zp)\n",
        "                    # (not ehMax and Zd < Zp) - > se for de minimizacao e essa(Zd) solucao inteira eh menor que a melhor ate agora(Zp)\n",
        "                    Zp = Zd\n",
        "                    modelosInteiros[Zp] = modeloAtual.copy()\n",
        "            continue # bound\n",
        "\n",
        "        \"\"\"agora seguiremos com o branch\"\"\"\n",
        "\n",
        "        # cria os dois ramos (esquerda e direita)\n",
        "        valorFracionario = variaveis[varFracionariaAtual]\n",
        "        piso = floor(valorFracionario)\n",
        "        teto = ceil(valorFracionario)\n",
        "\n",
        "        # ramo inferior: var <= piso\n",
        "        modeloEsquerda = modeloAtual.copy()\n",
        "        modeloEsquerda += modeloEsquerda.var_by_name(varFracionariaAtual) <= piso\n",
        "        fila.put((modeloEsquerda, varFracionariaAtual))\n",
        "\n",
        "        # ramo superior: var >= teto\n",
        "        modeloDireita = modeloAtual.copy()\n",
        "        modeloDireita += modeloDireita.var_by_name(varFracionariaAtual) >= teto\n",
        "        fila.put((modeloDireita, varFracionariaAtual))\n",
        "\n",
        "        count += 1\n",
        "        if count >= 100:\n",
        "            print(\"Limite de 100 iterações atingido. Melhor solução encontrada até agora:\")\n",
        "            break\n",
        "\n",
        "    resultado = solucaoMaxEncontrada(modelosInteiros)\n",
        "    if resultado:\n",
        "        print(\"\\nMelhor solução inteira encontrada:\")\n",
        "        print_solution(resultado[1])\n",
        "        return resultado[1]\n",
        "    else:\n",
        "        print(\"Nenhuma solução inteira viável encontrada.\")\n",
        "        return None\n"
      ],
      "metadata": {
        "id": "MQ9eoJRr20yQ"
      },
      "execution_count": 54,
      "outputs": []
    },
    {
      "cell_type": "code",
      "source": [
        "def branchAndBoundBinario(model):\n",
        "    ehMax = model.sense == MAXIMIZE\n",
        "\n",
        "    # limite primal\n",
        "    if ehMax:\n",
        "      Zp = float('-inf') # caso de maximizacao\n",
        "    else:\n",
        "       Zp = float('inf') # caso de minimizacao\n",
        "\n",
        "    fila = Queue()\n",
        "\n",
        "    model.optimize()\n",
        "\n",
        "    if model.status != OptimizationStatus.OPTIMAL:\n",
        "        print(\"Modelo inicial inviável ou não ótimo.\")\n",
        "        return None\n",
        "\n",
        "    variaveisAtuais = {v.name: v.x for v in model.vars}\n",
        "    varFracionaria = None\n",
        "    for nome, valor in variaveisAtuais.items():\n",
        "        if not ehInteiro(valor):\n",
        "            varFracionaria = nome\n",
        "            break\n",
        "\n",
        "    # se já é solução inteira\n",
        "    if not varFracionaria:\n",
        "        print(\"Solução já é inteira.\")\n",
        "        print_solution(model)\n",
        "        return model\n",
        "\n",
        "    # inicializa fila com o modelo original\n",
        "    fila.put((model.copy(), varFracionaria))\n",
        "\n",
        "    # todos os modelos que serao inteiros\n",
        "    modelosInteiros = {}\n",
        "\n",
        "    # para nao deixar a arvore se expandir muito\n",
        "    count = 0\n",
        "\n",
        "    while not fila.empty():\n",
        "        modeloAtual, varAtual = fila.get()\n",
        "\n",
        "        modeloAtual.optimize()\n",
        "\n",
        "        if modeloAtual.status != OptimizationStatus.OPTIMAL:\n",
        "            continue\n",
        "\n",
        "        Zd = modeloAtual.objective_value\n",
        "        \"\"\"\n",
        "            provavelmente nao eh assim que se usa o Zd (limite dual) na teoria, mas foi\n",
        "            a utilidade que encontrei pra ele aqui. Funcionar como o Z0, Z1, ..., Zn\n",
        "\n",
        "        \"\"\"\n",
        "\n",
        "        \"\"\"\n",
        "            caso a solucao encontrada seja viavel, mas nao seja melhor que uma que ja foi encontrada.\n",
        "            Entao ja mata esse nó e nem continua a execucao\n",
        "        \"\"\"\n",
        "        if Zd is not None:\n",
        "              if (ehMax and Zd < Zp) or (not ehMax and Zd > Zp):\n",
        "              # (ehMax and Zd < Zp) -> se for de maximizacao e essa(Zd) solucao inteira eh menor que a melhor ate agora(Zp)\n",
        "              # (not ehMax and Zd > Zp) - > se for de minimizacao e essa(Zd) solucao inteira eh menor que a melhor ate agora(Zp)\n",
        "                continue # bound\n",
        "\n",
        "\n",
        "        variaveis = {v.name: v.x for v in modeloAtual.vars}\n",
        "\n",
        "        # verifica se a solução é inteira\n",
        "        varFracionariaAtual = None\n",
        "        for nome, valor in variaveis.items():\n",
        "            if not (valor == 1 or valor == 0):\n",
        "                varFracionariaAtual = nome\n",
        "                break\n",
        "\n",
        "        # se for inteira\n",
        "        if not varFracionariaAtual:\n",
        "            print(f\">> Solução inteira encontrada: {modeloAtual.objective_value:.2f}\")\n",
        "            if Zd is not None:\n",
        "                if (ehMax and Zd > Zp) or (not ehMax and Zd < Zp):\n",
        "                    # (ehMax and Zd > Zp) -> se for de maximizacao e essa(Zd) solucao inteira eh maior que a melhor ate agora(Zp)\n",
        "                    # (not ehMax and Zd < Zp) - > se for de minimizacao e essa(Zd) solucao inteira eh menor que a melhor ate agora(Zp)\n",
        "                    Zp = Zd\n",
        "                    modelosInteiros[Zp] = modeloAtual.copy()\n",
        "            continue # bound\n",
        "\n",
        "        \"\"\"agora seguiremos com o branch\"\"\"\n",
        "\n",
        "        # cria os dois ramos (esquerda e direita)\n",
        "        valorFracionario = variaveis[varFracionariaAtual]\n",
        "\n",
        "        # ramo inferior: var <= piso\n",
        "        modeloEsquerda = modeloAtual.copy()\n",
        "        modeloEsquerda += modeloEsquerda.var_by_name(varFracionariaAtual) == 0\n",
        "        fila.put((modeloEsquerda, varFracionariaAtual))\n",
        "\n",
        "        # ramo superior: var >= teto\n",
        "        modeloDireita = modeloAtual.copy()\n",
        "        modeloDireita += modeloDireita.var_by_name(varFracionariaAtual) == 1\n",
        "        fila.put((modeloDireita, varFracionariaAtual))\n",
        "\n",
        "        count += 1\n",
        "        if count >= 100:\n",
        "            print(\"Limite de 100 iterações atingido. Melhor solução encontrada até agora:\")\n",
        "            break\n",
        "\n",
        "    resultado = solucaoMaxEncontrada(modelosInteiros)\n",
        "    if resultado:\n",
        "        print(\"\\nMelhor solução inteira encontrada:\")\n",
        "        print_solution(resultado[1])\n",
        "        return resultado[1]\n",
        "    else:\n",
        "        print(\"Nenhuma solução inteira viável encontrada.\")\n",
        "        return None\n"
      ],
      "metadata": {
        "id": "2WOWYN2yw2gz"
      },
      "execution_count": 55,
      "outputs": []
    },
    {
      "cell_type": "code",
      "source": [
        "def createModel1():\n",
        "  with open(\"instance1.txt\", \"w\") as f:\n",
        "    f.write(\"\"\"7\n",
        "    12\n",
        "    1\n",
        "    7\n",
        "    1 2 10\n",
        "    1 3 8\n",
        "    1 4 3\n",
        "    2 3 4\n",
        "    2 5 4\n",
        "    3 5 8\n",
        "    3 6 2\n",
        "    4 3 3\n",
        "    4 5 7\n",
        "    4 6 9\n",
        "    5 7 10\n",
        "    6 7 10\n",
        "    \"\"\")\n",
        "  file_path = \"instance1.txt\"\n",
        "\n",
        "  f = open(file_path, \"r\")\n",
        "  n = int(f.readline())      # número de vértices (vértices numerados de 1 a n)\n",
        "  m = int(f.readline())      # número de arcos (arcos numerados de 1 a m)\n",
        "  source = int(f.readline()) # índice do vértice de origem\n",
        "  sink = int(f.readline())   # índice do vértice de destino\n",
        "  arcs = []\n",
        "  for i in range(m):\n",
        "      i, j, cap = [int(val) for val in f.readline().split()]\n",
        "      arcs.append((str(i), str(j), cap))\n",
        "\n",
        "  # exibe dados da instância\n",
        "  print(n, m, source, sink)\n",
        "  for arc in arcs:\n",
        "    print(arc)\n",
        "  # implementar modelo\n",
        "  model = Model(sense= MAXIMIZE, solver_name= CBC)\n",
        "\n",
        "  # alocando as variaveis\n",
        "  x = {}\n",
        "  for (i, j, _) in arcs:\n",
        "      if i not in x:\n",
        "          x[i] = {}\n",
        "      x[i][j] = model.add_var(name=f\"x_{i}_{j}\")\n",
        "\n",
        "  # funcao objetivo\n",
        "  LHS = 0\n",
        "  for (i, j, _) in arcs:\n",
        "    if int(j) == sink:\n",
        "      LHS += x[i][j]\n",
        "  model.objective = LHS\n",
        "\n",
        "  print(LHS)\n",
        "\n",
        "  # restricoes dos vertices\n",
        "  for (i, j, c) in arcs:\n",
        "    model += x[i][j] >= 0\n",
        "    model += x[i][j] <= c\n",
        "\n",
        "  # restricoes dos vertices\n",
        "  for v in range(1, n+1):\n",
        "\n",
        "    if v == source or v == sink: continue\n",
        "\n",
        "    entra = 0\n",
        "    for (i, j, _) in arcs:\n",
        "      if int(j) == v:\n",
        "        entra += x[i][j]\n",
        "\n",
        "    sai = 0\n",
        "    for (i, j, _) in arcs:\n",
        "      if int(i) == v:\n",
        "        sai += x[i][j]\n",
        "\n",
        "    #restricao\n",
        "    model += (entra - sai) == 0\n",
        "\n",
        "  return model"
      ],
      "metadata": {
        "id": "VfMl34rx4znJ"
      },
      "execution_count": 56,
      "outputs": []
    },
    {
      "cell_type": "code",
      "source": [
        "def createModel2():\n",
        "  model = Model(sense=MAXIMIZE, solver_name=CBC)\n",
        "  portas = [\"Porta_de_madeira\", \"Porta_de_aluminio\"]\n",
        "\n",
        "  x = {\n",
        "      \"Porta_de_madeira\": model.add_var(name=\"Porta_de_madeira\"),\n",
        "      \"Porta_de_aluminio\": model.add_var(name=\"Porta_de_aluminio\")\n",
        "  }\n",
        "\n",
        "\n",
        "\n",
        "\n",
        "  model.objective = 4*x[portas[0]] + 6*x[portas[1]]\n",
        "\n",
        "  model += 1.5*x[portas[0]] + 4*x[portas[1]] <= 24\n",
        "  model += 3*x[portas[0]] + 1.5*x[portas[1]] <= 21\n",
        "  model += x[portas[0]] + x[portas[1]] <= 8\n",
        "\n",
        "  return model"
      ],
      "metadata": {
        "id": "1Wn8DEdS76UU"
      },
      "execution_count": 58,
      "outputs": []
    },
    {
      "cell_type": "code",
      "source": [
        "branchAndBound(createModel1())"
      ],
      "metadata": {
        "colab": {
          "base_uri": "https://localhost:8080/"
        },
        "id": "993jZNMr40pa",
        "outputId": "3c73d4d3-f1d6-4ec8-8264-f2163e58c48e"
      },
      "execution_count": 57,
      "outputs": [
        {
          "output_type": "stream",
          "name": "stdout",
          "text": [
            "7 12 1 7\n",
            "('1', '2', 10)\n",
            "('1', '3', 8)\n",
            "('1', '4', 3)\n",
            "('2', '3', 4)\n",
            "('2', '5', 4)\n",
            "('3', '5', 8)\n",
            "('3', '6', 2)\n",
            "('4', '3', 3)\n",
            "('4', '5', 7)\n",
            "('4', '6', 9)\n",
            "('5', '7', 10)\n",
            "('6', '7', 10)\n",
            "+ x_5_7 + x_6_7 \n",
            "Solução já é inteira.\n",
            "Status  OptimizationStatus.OPTIMAL\n",
            "Solution value = 15.0\n",
            "Solution:\n",
            "x_1_2 = 4.00\n",
            "x_1_3 = 8.00\n",
            "x_1_4 = 3.00\n",
            "x_2_5 = 4.00\n",
            "x_3_5 = 6.00\n",
            "x_3_6 = 2.00\n",
            "x_4_6 = 3.00\n",
            "x_5_7 = 10.00\n",
            "x_6_7 = 5.00\n"
          ]
        },
        {
          "output_type": "execute_result",
          "data": {
            "text/plain": [
              "<mip.model.Model at 0x7a965303af90>"
            ]
          },
          "metadata": {},
          "execution_count": 57
        }
      ]
    },
    {
      "cell_type": "code",
      "source": [
        "branchAndBound(createModel2())"
      ],
      "metadata": {
        "colab": {
          "base_uri": "https://localhost:8080/"
        },
        "id": "lHrJGanK9ezu",
        "outputId": "1071347d-4228-449b-a32e-0c456823123e"
      },
      "execution_count": 59,
      "outputs": [
        {
          "output_type": "stream",
          "name": "stdout",
          "text": [
            ">> Solução inteira encontrada: 40.00\n",
            "\n",
            "Melhor solução inteira encontrada:\n",
            "Status  OptimizationStatus.OPTIMAL\n",
            "Solution value = 40.0\n",
            "Solution:\n",
            "Porta_de_madeira = 4.00\n",
            "Porta_de_aluminio = 4.00\n"
          ]
        },
        {
          "output_type": "execute_result",
          "data": {
            "text/plain": [
              "<mip.model.Model at 0x7a9652fa6e10>"
            ]
          },
          "metadata": {},
          "execution_count": 59
        }
      ]
    },
    {
      "cell_type": "code",
      "source": [
        "branchAndBound(lerModelo(\"teste1.txt\"))"
      ],
      "metadata": {
        "colab": {
          "base_uri": "https://localhost:8080/"
        },
        "id": "X8hk_78Sm21_",
        "outputId": "f12b1eb8-b63f-4f36-b178-043f385a77f7"
      },
      "execution_count": 62,
      "outputs": [
        {
          "output_type": "stream",
          "name": "stdout",
          "text": [
            ">> Solução inteira encontrada: 30.00\n",
            ">> Solução inteira encontrada: 30.00\n",
            ">> Solução inteira encontrada: 30.00\n",
            ">> Solução inteira encontrada: 30.00\n",
            "\n",
            "Melhor solução inteira encontrada:\n",
            "Status  OptimizationStatus.OPTIMAL\n",
            "Solution value = 30.0\n",
            "Solution:\n",
            "x5 = 2.00\n",
            "x6 = 1.00\n"
          ]
        },
        {
          "output_type": "execute_result",
          "data": {
            "text/plain": [
              "<mip.model.Model at 0x7a9652febcd0>"
            ]
          },
          "metadata": {},
          "execution_count": 62
        }
      ]
    },
    {
      "cell_type": "code",
      "source": [
        "branchAndBoundBinario(lerModelo(\"teste1.txt\"))"
      ],
      "metadata": {
        "colab": {
          "base_uri": "https://localhost:8080/"
        },
        "id": "on8oS3J_xGH6",
        "outputId": "741f40f3-c6c2-4210-d63b-3a41e7a55308"
      },
      "execution_count": 63,
      "outputs": [
        {
          "output_type": "stream",
          "name": "stdout",
          "text": [
            ">> Solução inteira encontrada: 8.00\n",
            ">> Solução inteira encontrada: 9.00\n",
            ">> Solução inteira encontrada: 13.00\n",
            ">> Solução inteira encontrada: 14.00\n",
            ">> Solução inteira encontrada: 15.00\n",
            ">> Solução inteira encontrada: 16.00\n",
            ">> Solução inteira encontrada: 17.00\n",
            ">> Solução inteira encontrada: 18.00\n",
            ">> Solução inteira encontrada: 18.00\n",
            ">> Solução inteira encontrada: 20.00\n",
            ">> Solução inteira encontrada: 20.00\n",
            ">> Solução inteira encontrada: 20.00\n",
            "\n",
            "Melhor solução inteira encontrada:\n",
            "Status  OptimizationStatus.OPTIMAL\n",
            "Solution value = 20.0\n",
            "Solution:\n",
            "x2 = 1.00\n",
            "x5 = 1.00\n"
          ]
        },
        {
          "output_type": "execute_result",
          "data": {
            "text/plain": [
              "<mip.model.Model at 0x7a965333be90>"
            ]
          },
          "metadata": {},
          "execution_count": 63
        }
      ]
    },
    {
      "cell_type": "code",
      "source": [
        "branchAndBoundBinario(lerModelo(\"teste2.txt\"))"
      ],
      "metadata": {
        "colab": {
          "base_uri": "https://localhost:8080/"
        },
        "id": "rXLYOZpHy-Fw",
        "outputId": "30919164-a9bf-4a37-e893-297b5a020bc0"
      },
      "execution_count": 65,
      "outputs": [
        {
          "output_type": "stream",
          "name": "stdout",
          "text": [
            ">> Solução inteira encontrada: 12.00\n",
            ">> Solução inteira encontrada: 19.00\n",
            ">> Solução inteira encontrada: 24.00\n",
            ">> Solução inteira encontrada: 24.00\n",
            "\n",
            "Melhor solução inteira encontrada:\n",
            "Status  OptimizationStatus.OPTIMAL\n",
            "Solution value = 24.0\n",
            "Solution:\n",
            "x6 = 1.00\n",
            "x7 = 1.00\n",
            "x9 = 1.00\n"
          ]
        },
        {
          "output_type": "execute_result",
          "data": {
            "text/plain": [
              "<mip.model.Model at 0x7a965334f6d0>"
            ]
          },
          "metadata": {},
          "execution_count": 65
        }
      ]
    },
    {
      "cell_type": "code",
      "source": [
        "branchAndBoundBinario(lerModelo(\"teste3.txt\"))"
      ],
      "metadata": {
        "colab": {
          "base_uri": "https://localhost:8080/"
        },
        "id": "EEW21YeGzQDQ",
        "outputId": "0db706ca-083c-45d5-9d63-c6f3bd13a9ab"
      },
      "execution_count": 66,
      "outputs": [
        {
          "output_type": "stream",
          "name": "stdout",
          "text": [
            ">> Solução inteira encontrada: 9.00\n",
            ">> Solução inteira encontrada: 16.00\n",
            ">> Solução inteira encontrada: 17.00\n",
            ">> Solução inteira encontrada: 17.00\n",
            ">> Solução inteira encontrada: 18.00\n",
            ">> Solução inteira encontrada: 19.00\n",
            "\n",
            "Melhor solução inteira encontrada:\n",
            "Status  OptimizationStatus.OPTIMAL\n",
            "Solution value = 19.0\n",
            "Solution:\n",
            "x3 = 1.00\n",
            "x7 = 1.00\n"
          ]
        },
        {
          "output_type": "execute_result",
          "data": {
            "text/plain": [
              "<mip.model.Model at 0x7a9652ea3ad0>"
            ]
          },
          "metadata": {},
          "execution_count": 66
        }
      ]
    },
    {
      "cell_type": "code",
      "source": [
        "branchAndBoundBinario(lerModelo(\"teste4.txt\"))"
      ],
      "metadata": {
        "colab": {
          "base_uri": "https://localhost:8080/"
        },
        "id": "hAMNLVmPzXk_",
        "outputId": "c05c1162-3e7b-41fe-b45a-06007cb3fa91"
      },
      "execution_count": 67,
      "outputs": [
        {
          "output_type": "stream",
          "name": "stdout",
          "text": [
            ">> Solução inteira encontrada: 9.00\n",
            ">> Solução inteira encontrada: 9.00\n",
            ">> Solução inteira encontrada: 9.00\n",
            ">> Solução inteira encontrada: 10.00\n",
            "\n",
            "Melhor solução inteira encontrada:\n",
            "Status  OptimizationStatus.OPTIMAL\n",
            "Solution value = 10.0\n",
            "Solution:\n",
            "x3 = 1.00\n"
          ]
        },
        {
          "output_type": "execute_result",
          "data": {
            "text/plain": [
              "<mip.model.Model at 0x7a9653338250>"
            ]
          },
          "metadata": {},
          "execution_count": 67
        }
      ]
    }
  ]
}